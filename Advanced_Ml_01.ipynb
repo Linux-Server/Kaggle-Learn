{
  "nbformat": 4,
  "nbformat_minor": 0,
  "metadata": {
    "colab": {
      "provenance": [],
      "authorship_tag": "ABX9TyOKv8TP1HZPYRtutr6V0qXC",
      "include_colab_link": true
    },
    "kernelspec": {
      "name": "python3",
      "display_name": "Python 3"
    },
    "language_info": {
      "name": "python"
    }
  },
  "cells": [
    {
      "cell_type": "markdown",
      "metadata": {
        "id": "view-in-github",
        "colab_type": "text"
      },
      "source": [
        "<a href=\"https://colab.research.google.com/github/Linux-Server/Kaggle-Learn/blob/main/Advanced_Ml_01.ipynb\" target=\"_parent\"><img src=\"https://colab.research.google.com/assets/colab-badge.svg\" alt=\"Open In Colab\"/></a>"
      ]
    },
    {
      "cell_type": "markdown",
      "source": [
        "# **Introduction - 1/7** - Kaggle Learn"
      ],
      "metadata": {
        "id": "lgwNL_3Ca8Kz"
      }
    },
    {
      "cell_type": "code",
      "source": [],
      "metadata": {
        "id": "aKIWAI0DbECG"
      },
      "execution_count": null,
      "outputs": []
    },
    {
      "cell_type": "markdown",
      "source": [
        "***Prerequsite***:\n",
        "\n",
        "In order to move further, you should have some knowledge of below topics\n",
        "\n",
        "1.   Model Validation\n",
        "2.   Under fitting / Over Fitting\n",
        "3.   Random Forest\n",
        "\n"
      ],
      "metadata": {
        "id": "QVeXCJFvbzfL"
      }
    },
    {
      "cell_type": "code",
      "source": [],
      "metadata": {
        "id": "waY28CEKcRxK"
      },
      "execution_count": null,
      "outputs": []
    }
  ]
}